{
 "cells": [
  {
   "cell_type": "code",
   "execution_count": null,
   "id": "1007c0d0-961c-4d23-b25a-4ccc1686a55c",
   "metadata": {},
   "outputs": [],
   "source": [
    "import tensorflow as tf\n",
    "import tensorflow.keras"
   ]
  },
  {
   "cell_type": "code",
   "execution_count": null,
   "id": "3a45e7fe-560c-4772-b658-9bb2d942e693",
   "metadata": {},
   "outputs": [],
   "source": [
    "model = tf.keras.models.load_model('data/model/LSTM2LSTM/model.h5')"
   ]
  },
  {
   "cell_type": "code",
   "execution_count": null,
   "id": "c8322202-648c-437a-9406-3167f8b0450b",
   "metadata": {},
   "outputs": [],
   "source": [
    "model.summary()"
   ]
  },
  {
   "cell_type": "code",
   "execution_count": null,
   "id": "0be43231-3e9c-4792-929b-203211595560",
   "metadata": {},
   "outputs": [],
   "source": [
    "import os\n",
    "\n",
    "import pandas as pd\n",
    "\n",
    "from src.io.path_definition import get_file"
   ]
  },
  {
   "cell_type": "code",
   "execution_count": null,
   "id": "531afcbd-d1d0-4b52-83cf-55a5774547cd",
   "metadata": {},
   "outputs": [],
   "source": [
    "hotel_info = pd.read_csv(get_file(os.path.join('data', 'cancel_dataset_hotel_info.csv')))\n",
    "\n",
    "cancel_target = pd.read_csv(get_file(os.path.join('data', 'cancel_dataset_target.csv')))\n",
    "date_feature = pd.read_csv(get_file(os.path.join('data', 'cancel_dataset_date_feature.csv')))\n",
    "hotel_meta = pd.read_csv(get_file(os.path.join('data', 'cancel_dataset_hotel_info.csv')), index_col=0)\n",
    "\n",
    "covid_data = pd.read_excel(get_file(os.path.join('data', 'owid-covid-data.xlsx')),\n",
    "                           #engine='openpyxl'\n",
    "                           )\n",
    "\n",
    "\n",
    "def data_preparation(hotel_id: int, date_feature: pd.DataFrame, cancel_target: pd.DataFrame):\n",
    "\n",
    "    column = f\"hotel_{hotel_id}_canceled\"\n",
    "\n",
    "    cancel_target['date'] = cancel_target['date'].apply(lambda x: datetime.strptime(x, '%Y/%m/%d').strftime(\"%Y/%m/%d\"))\n",
    "    cancel_target.set_index('date', inplace=True)\n",
    "    hotel_cancel = cancel_target[column].replace(\"-\", np.nan).dropna().astype(int)\n",
    "\n",
    "    date_feature['date'] = date_feature['date'].apply(lambda x: datetime.strptime(x, '%Y/%m/%d').strftime(\"%Y/%m/%d\"))\n",
    "    date_feature.set_index('date', inplace=True)\n",
    "    date_feature = date_feature.loc[hotel_cancel.index]\n",
    "\n",
    "    date_feature['canceled'] = hotel_cancel   # 原始值\n",
    "\n",
    "    twn_covid_data = covid_data[covid_data['iso_code']=='TWN']\n",
    "    twn_covid_data['date'] = twn_covid_data['date'].apply(lambda x: datetime.strptime(x, '%Y-%m-%d').strftime(\"%Y/%m/%d\"))\n",
    "    twn_covid_data.set_index('date', inplace=True)\n",
    "\n",
    "    covid_features = []#['new_cases', 'new_deaths']\n",
    "\n",
    "    date_feature = date_feature.join(twn_covid_data[covid_features].fillna(0))\n",
    "\n",
    "    num_feature_columns = ['canceled'] + covid_features\n",
    "\n",
    "    return num_feature_columns, date_feature"
   ]
  },
  {
   "cell_type": "code",
   "execution_count": null,
   "id": "30a9a7b6-105f-4e1a-b2a3-8c59ded6432c",
   "metadata": {},
   "outputs": [],
   "source": [
    "import numpy as np\n",
    "from datetime import datetime\n",
    "\n",
    "hotel_id = 57\n",
    "\n",
    "numerical_features, date_feature = data_preparation(hotel_id, date_feature.copy(), cancel_target.copy())\n",
    "\n",
    "date_feature = date_feature[numerical_features]"
   ]
  },
  {
   "cell_type": "code",
   "execution_count": null,
   "id": "cdac77bd-f5b2-4cac-8925-dae0e8222218",
   "metadata": {},
   "outputs": [],
   "source": [
    "numerical_features"
   ]
  },
  {
   "cell_type": "code",
   "execution_count": null,
   "id": "259f481a-4cde-44f8-9cc5-047c871079af",
   "metadata": {},
   "outputs": [],
   "source": [
    "model.summary()"
   ]
  },
  {
   "cell_type": "code",
   "execution_count": null,
   "id": "fe93dd63-6b01-45c0-8b1c-994e6f2a4465",
   "metadata": {},
   "outputs": [],
   "source": [
    "test_size = 28\n",
    "input_range = 30\n",
    "lead_time = 0\n",
    "prediction_time = 7"
   ]
  },
  {
   "cell_type": "code",
   "execution_count": null,
   "id": "15ea866e-4508-43fe-a717-77c929b7334c",
   "metadata": {},
   "outputs": [],
   "source": [
    "import joblib\n",
    "\n",
    "with open(os.path.join('data', 'model', 'LSTM2LSTM', 'scaler'), mode='rb') as f:\n",
    "    scaler = joblib.load(f)"
   ]
  },
  {
   "cell_type": "code",
   "execution_count": null,
   "id": "02b4ca20-4bbb-45fd-a918-d1cc6851d218",
   "metadata": {},
   "outputs": [],
   "source": [
    "scaler.data_max_"
   ]
  },
  {
   "cell_type": "code",
   "execution_count": null,
   "id": "720fa39f-7719-42ce-b746-17f55995eb5c",
   "metadata": {},
   "outputs": [],
   "source": [
    "scaler.data_min_"
   ]
  },
  {
   "cell_type": "code",
   "execution_count": null,
   "id": "3a8d4c13-4797-4c2b-9944-ae0eefcb5053",
   "metadata": {},
   "outputs": [],
   "source": [
    "scaler.feature_names_in_"
   ]
  },
  {
   "cell_type": "code",
   "execution_count": null,
   "id": "2acde560-31f7-4258-960a-9aa2e4e7e5ad",
   "metadata": {},
   "outputs": [],
   "source": [
    "date_feature[scaler.feature_names_in_] = scaler.transform(date_feature[scaler.feature_names_in_])"
   ]
  },
  {
   "cell_type": "code",
   "execution_count": null,
   "id": "fc739a6e-e709-407e-97aa-60a385e245a0",
   "metadata": {},
   "outputs": [],
   "source": [
    "date_feature[scaler.feature_names_in_].head(5)"
   ]
  },
  {
   "cell_type": "code",
   "execution_count": null,
   "id": "8b024d95-0258-4894-9c80-1a7c008f41eb",
   "metadata": {},
   "outputs": [],
   "source": [
    "from train.logic.data_preparation import to_supervised\n",
    "\n",
    "results = to_supervised(date_feature, input_range=input_range, prediction_time=prediction_time,\n",
    "                        numerical_features=numerical_features, prediction=False)"
   ]
  },
  {
   "cell_type": "code",
   "execution_count": null,
   "id": "12e8a6a4-7593-48af-a6e4-94e630a42031",
   "metadata": {},
   "outputs": [],
   "source": [
    "results.keys()"
   ]
  },
  {
   "cell_type": "code",
   "execution_count": null,
   "id": "165c8982-637f-48f0-bae1-c2b0164146b3",
   "metadata": {},
   "outputs": [],
   "source": [
    "from train.logic.data_preparation import parse_tf_input\n",
    "\n",
    "X, y = parse_tf_input(results, prediction=False)"
   ]
  },
  {
   "cell_type": "code",
   "execution_count": null,
   "id": "5a6eb313-e824-4643-8f4e-76f3c51793ff",
   "metadata": {},
   "outputs": [],
   "source": [
    "X['encoder_X_num'].shape"
   ]
  },
  {
   "cell_type": "code",
   "execution_count": null,
   "id": "3c72d8e7-7ee8-44ae-b43d-5b8822fb4f3a",
   "metadata": {},
   "outputs": [],
   "source": [
    "y.keys()"
   ]
  },
  {
   "cell_type": "code",
   "execution_count": null,
   "id": "1b45477a-66ee-4553-ae95-73574c90e573",
   "metadata": {},
   "outputs": [],
   "source": [
    "y_pred = model.predict(X)"
   ]
  },
  {
   "cell_type": "code",
   "execution_count": null,
   "id": "d2af50ed-9993-4bb9-8d22-45cd562f93be",
   "metadata": {},
   "outputs": [],
   "source": [
    "y_pred.shape"
   ]
  },
  {
   "cell_type": "code",
   "execution_count": null,
   "id": "4e29dda9-7b8c-45fb-a1e5-5c8e39458392",
   "metadata": {},
   "outputs": [],
   "source": [
    "y['true'].shape"
   ]
  },
  {
   "cell_type": "code",
   "execution_count": null,
   "id": "490663ad-4b56-4fee-bfc3-b1055878c02b",
   "metadata": {},
   "outputs": [],
   "source": [
    "y_true_extend = np.repeat(y['true'][-test_size:].reshape(-1, 1), len(scaler.scale_), axis=1)\n",
    "y_true_reshape = scaler.inverse_transform(y_true_extend)[:, 0].reshape(y['true'][-test_size:].shape)"
   ]
  },
  {
   "cell_type": "code",
   "execution_count": null,
   "id": "2b3a7e90-0d0a-4207-8a17-d88465b356b1",
   "metadata": {},
   "outputs": [],
   "source": [
    "y_true_reshape.shape"
   ]
  },
  {
   "cell_type": "code",
   "execution_count": null,
   "id": "60ad271f-8cda-4f5a-ab75-745697e4cac2",
   "metadata": {},
   "outputs": [],
   "source": [
    "y_true_reshape[-1]"
   ]
  },
  {
   "cell_type": "code",
   "execution_count": null,
   "id": "47710275-fde6-4fde-af25-213d8249f341",
   "metadata": {},
   "outputs": [],
   "source": [
    "y_true_reshape[0]"
   ]
  },
  {
   "cell_type": "code",
   "execution_count": null,
   "id": "e830828b-43a0-42ad-8559-e1596eede37a",
   "metadata": {},
   "outputs": [],
   "source": [
    "y_pred_extend = np.repeat(y_pred[-test_size:].reshape(-1, 1), len(scaler.scale_), axis=1)\n",
    "y_pred_reshape = scaler.inverse_transform(y_pred_extend)[:, 0].reshape(y_pred[-test_size:].shape)"
   ]
  },
  {
   "cell_type": "code",
   "execution_count": null,
   "id": "5f9d06eb-a19a-4c9b-9e26-8efdf30cba97",
   "metadata": {},
   "outputs": [],
   "source": [
    "y_pred_extend.shape"
   ]
  },
  {
   "cell_type": "code",
   "execution_count": null,
   "id": "ded022a8-9d2b-4b15-ad70-4cc66212c8a0",
   "metadata": {},
   "outputs": [],
   "source": [
    "y_pred_reshape[0]"
   ]
  },
  {
   "cell_type": "code",
   "execution_count": null,
   "id": "c5d5d5e9-ee6f-4970-9282-9faacd9ef2b1",
   "metadata": {},
   "outputs": [],
   "source": [
    "y_pred_reshape.shape"
   ]
  },
  {
   "cell_type": "code",
   "execution_count": null,
   "id": "de63eeef-1b1b-46e4-84ec-3916d464fd97",
   "metadata": {},
   "outputs": [],
   "source": [
    "y_pred_reshape[:, 0, 0]"
   ]
  },
  {
   "cell_type": "code",
   "execution_count": null,
   "id": "cc438fcf-8a43-47e0-9f87-4abca3e23fe6",
   "metadata": {},
   "outputs": [],
   "source": []
  }
 ],
 "metadata": {
  "kernelspec": {
   "display_name": "Python 3 (ipykernel)",
   "language": "python",
   "name": "python3"
  },
  "language_info": {
   "codemirror_mode": {
    "name": "ipython",
    "version": 3
   },
   "file_extension": ".py",
   "mimetype": "text/x-python",
   "name": "python",
   "nbconvert_exporter": "python",
   "pygments_lexer": "ipython3",
   "version": "3.7.13"
  }
 },
 "nbformat": 4,
 "nbformat_minor": 5
}
